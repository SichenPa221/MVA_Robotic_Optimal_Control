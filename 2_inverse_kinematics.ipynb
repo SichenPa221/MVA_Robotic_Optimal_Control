{
 "cells": [
  {
   "cell_type": "markdown",
   "metadata": {},
   "source": [
    "# Inverse kinematics\n",
    "This notebook considers the problem of inverse kinematics, ie solving at each control cycle of the robot a quadratic program from the derivatives (jacobian) of the current state. It introduces the basic function to compute the Jacobians of the robot, and how to use them to compute an inverse-kinematics control law. One of the key difficulties is to understand in which frames each quantities is computed (might be in the world frame, in the local frame attached to the end effector, in some arbitrary goal frame, etc), as we should never mixed quantities expressed in different frames without transporting them in the right frame. \n"
   ]
  },
  {
   "cell_type": "markdown",
   "metadata": {},
   "source": [
    "## Set up\n",
    "We will MeshCat for visualization and NumPy for linear algebra. Note that the [@ operator](https://numpy.org/doc/stable/reference/routines.linalg.html#the-operator) is a way to compute the matrix (dot) product between two NumPy arrays, similar to ``np.dot(A, B)``."
   ]
  },
  {
   "cell_type": "code",
   "execution_count": 76,
   "metadata": {},
   "outputs": [],
   "source": [
    "import pinocchio as pin\n",
    "import numpy as np\n",
    "import time\n",
    "from numpy.linalg import pinv,inv,norm,svd,eig\n",
    "from utils.tiago_loader import loadTiago\n",
    "import matplotlib.pylab as plt; plt.ion()\n",
    "from utils.meshcat_viewer_wrapper import MeshcatVisualizer"
   ]
  },
  {
   "cell_type": "markdown",
   "metadata": {},
   "source": [
    "We will use the [Tiago](https://youtu.be/6BwRqwD066g) robot, a mobile manipulator from PAL Robotics:"
   ]
  },
  {
   "cell_type": "code",
   "execution_count": 77,
   "metadata": {},
   "outputs": [
    {
     "name": "stdout",
     "output_type": "stream",
     "text": [
      "You can open the visualizer by visiting the following URL:\n",
      "http://127.0.0.1:7003/static/\n"
     ]
    }
   ],
   "source": [
    "robot = loadTiago()\n",
    "viz = MeshcatVisualizer(robot)"
   ]
  },
  {
   "cell_type": "markdown",
   "metadata": {},
   "source": [
    "Click on the link above to open the viewer in a separate window, or execute the following cell to embed the viewer here:"
   ]
  },
  {
   "cell_type": "code",
   "execution_count": 78,
   "metadata": {},
   "outputs": [
    {
     "data": {
      "text/html": [
       "\n",
       "            <div style=\"height: 400px; width: 100%; overflow-x: auto; overflow-y: hidden; resize: both\">\n",
       "            <iframe src=\"http://127.0.0.1:7003/static/\" style=\"width: 100%; height: 100%; border: none\"></iframe>\n",
       "            </div>\n",
       "            "
      ],
      "text/plain": [
       "<IPython.core.display.HTML object>"
      ]
     },
     "execution_count": 78,
     "metadata": {},
     "output_type": "execute_result"
    }
   ],
   "source": [
    "viz.viewer.jupyter_cell()"
   ]
  },
  {
   "cell_type": "markdown",
   "metadata": {},
   "source": [
    "Tiago consists of:\n",
    "\n",
    "- A mobile base that can move in the plane (the corresponding joint will be a *floating base* in $SE(2)$, thus with three degrees of freedom).\n",
    "- A manipulator arm (seven DOFs).\n",
    "- An articulated head (two DOFs).\n",
    "- A prismatic axis moving vertically (one DOF), on which arm and head are mounted.\n",
    "- Two extra joints to represent the wheels under the mobile base (two DOFs), which we won't use in this tutorial.\n",
    "\n",
    "The wheel and the base rotations are represented by the vector $[\\cos \\theta\\ \\sin \\theta]$ corresponding to their angle $\\theta$. This choice of representation results in a larger vector, subject to the constraint $\\cos(\\theta)^2 + \\sin(\\theta)^2 = 1$, but with no discontinuity at the boundary of the angular interval chosen to select a unique angle. The dimension of the configuration space (equivalently, the size of the configuration vector) is then:\n",
    "\n",
    "| Joint          | DOFs | Dim. of config. repr. | Dim. of tangent repr. |\n",
    "|----------------|------|-----------------------|-----------------------|\n",
    "| Mobile base    | 3    | 4  | 3 |\n",
    "| Manipulator    | 7    | 7  | 7 |\n",
    "| Head           | 2    | 2  | 2 |\n",
    "| Prismatic axis | 1    | 1  | 1 |\n",
    "| Wheels         | 2    | 4  | 2 |\n",
    "| **Total**      | **15** | **18** | **15** |\n",
    "\n",
    "You can check these values in ``robot.model.nq`` and ``robot.model.nv``.\n",
    "\n",
    "The configuration is represented by a vector of larger dimension, subject to constraints $\\cos(\\theta)^2 + \\sin(\\theta)^2 = 1$. It is not possible to randomly sample a configuration vector $q$ using the distributions from NumPy, as the results won't respect these constraints. Similarly, we should take care when integrating velocities, as summing a configuration $q$ with a velocity $v$ is undefined (dimensions don't match). Two functions in Pinocchio implements these functionnalities."
   ]
  },
  {
   "cell_type": "code",
   "execution_count": 79,
   "metadata": {},
   "outputs": [
    {
     "name": "stdout",
     "output_type": "stream",
     "text": [
      "[ 0.6580446  -0.80579721 -0.1446098   0.29188334  0.25997395 -0.15480941\n",
      " -0.14243751  0.00987428  0.10322341 -0.40912672 -0.01136651  0.53929544\n",
      " -0.80307344  0.94683652  0.95910107]\n",
      "18\n",
      "15\n"
     ]
    }
   ],
   "source": [
    "q = pin.randomConfiguration(robot.model)\n",
    "\n",
    "vq = np.random.rand(robot.model.nv)*2 - 1\n",
    "print(vq)\n",
    "DT = 1e-3\n",
    "qnext = pin.integrate(robot.model,q,vq*DT)\n",
    "\n",
    "print(robot.model.nq) # The number of configuratio\n",
    "print(robot.model.nv) # The number of the joints"
   ]
  },
  {
   "cell_type": "markdown",
   "metadata": {},
   "source": [
    "Here is a simple example where we move the robot in the viewer following a constant (random) velocity:"
   ]
  },
  {
   "cell_type": "code",
   "execution_count": 80,
   "metadata": {},
   "outputs": [],
   "source": [
    "for t in range(1000):\n",
    "    q = pin.integrate(robot.model,q,vq*DT)\n",
    "    viz.display(q)\n",
    "    time.sleep(DT)"
   ]
  },
  {
   "cell_type": "markdown",
   "metadata": {},
   "source": [
    "The robot is mobile, hence the camera view in the viewer is not always centered. Also, don't worry if you see the torso fly above the prismatic joint: we are not including joint limits yet 😉"
   ]
  },
  {
   "cell_type": "markdown",
   "metadata": {},
   "source": [
    "## Forward kinematics and Jacobian\n",
    "\n",
    "Here's a quick recap on forward kinematics. Let's consider two frames of interest: the first one, named \"frametool\" is at the tip of the end-effector; the second one, named \"framebasis\", is at the fore of the robot's mobile base, 10 cm above the ground. Both are represented in MeshCat by a triad of RGB arrows:"
   ]
  },
  {
   "cell_type": "code",
   "execution_count": 81,
   "metadata": {},
   "outputs": [],
   "source": [
    "IDX_TOOL = robot.model.getFrameId('frametool')\n",
    "IDX_BASIS = robot.model.getFrameId('framebasis')"
   ]
  },
  {
   "cell_type": "code",
   "execution_count": 82,
   "metadata": {},
   "outputs": [
    {
     "data": {
      "text/plain": [
       "Frame name: framebasis paired to (parent joint/ previous frame)(1/4)\n",
       "with relative placement wrt parent joint:\n",
       "  R =\n",
       "1 0 0\n",
       "0 1 0\n",
       "0 0 1\n",
       "  p =  0.3    0 0.15\n",
       "containing inertia:\n",
       "  m = 0\n",
       "  c = 0 0 0\n",
       "  I = \n",
       "0 0 0\n",
       "0 0 0\n",
       "0 0 0"
      ]
     },
     "execution_count": 82,
     "metadata": {},
     "output_type": "execute_result"
    }
   ],
   "source": [
    "robot.model.frames[IDX_BASIS]"
   ]
  },
  {
   "cell_type": "markdown",
   "metadata": {},
   "source": [
    "The `frames` vector in a `robot.model` contains relative placements in $SE(3)$: ``frames[i]`` gives the placement from frame $i$ to its parent frame in the kinematic tree. If the frame is that of a link rather than a joint, it will also contain non-zero inertias."
   ]
  },
  {
   "cell_type": "markdown",
   "metadata": {},
   "source": [
    "### Computing frame placement\n",
    "\n",
    "The global placement of the frames is computed by the Pinocchio function `framesForwardKinematics`, whose results are stored in `robot.data.oMf`. Read `oMf` as ${}^0 M_f$, where $0$ is the index of our inertial frame (*a.k.a.* the world frame)."
   ]
  },
  {
   "cell_type": "code",
   "execution_count": 83,
   "metadata": {},
   "outputs": [
    {
     "name": "stdout",
     "output_type": "stream",
     "text": [
      "Tool placement:   R =\n",
      " 0.792407  0.420322 -0.442063\n",
      " 0.587775 -0.719939  0.369065\n",
      "-0.163132 -0.552284 -0.817539\n",
      "  p = -1.18136 0.667017 0.539939\n",
      "\n",
      "Basis placement:   R =\n",
      " -0.6923 -0.72161        0\n",
      " 0.72161  -0.6923        0\n",
      "       0        0        1\n",
      "  p = -0.854602  0.551595      0.15\n",
      "\n"
     ]
    }
   ],
   "source": [
    "pin.framesForwardKinematics(robot.model, robot.data, q)\n",
    "\n",
    "oMtool = robot.data.oMf[IDX_TOOL]  # Tranformation matrix from the tool to world fram\n",
    "oMbasis = robot.data.oMf[IDX_BASIS] #  T matrix from the robot basisi to world fram\n",
    "\n",
    "print(\"Tool placement:\",oMtool)\n",
    "print(\"Basis placement:\",oMbasis)"
   ]
  },
  {
   "cell_type": "markdown",
   "metadata": {},
   "source": [
    "It is important to note the instruction pattern, which is standard in all Pinocchion functions: first, call an algorithm (here ``pin.framesForwardKinematics``); then, access the results in *robot.data*. Our `robot.model` contains the abstract structure (the model) of our robot, whereas `robot.data` contains a particular instance of that structure, populated by the algorithm for a given instance of configuration, velocity, etc."
   ]
  },
  {
   "cell_type": "markdown",
   "metadata": {},
   "source": [
    "The tool-placement matrix $^0M_{tool}$ represents the displacement between the tool frame $F_{tool}$ and the world frame $F_{world}$. It is the affine transform matrix that maps vectors expressed in $F_{tool}$ to their corresponding vectors expressed in $F_0$. It consists of a $3 \\times 3$ rotation matrix $^0 R_{tool}$, and a 3D position vector:\n",
    "\n",
    "$$\n",
    "^0T_{tool} = {}^0 p_{tool} - {}^0 p_{0}.\n",
    "$$\n",
    "\n",
    "This is the vector from the origin of frame $F_0$ to the origin of frame $F_{tool}$, expressed in the world frame $F_0$. We can also express $p_{tool} - p_{0}$ in the tool frame $F_{tool}$ by multiplying $^0T_{tool}$ by ${}^{tool} R _0 = {}^{0}R_{tool}^T$:\n",
    "\n",
    "$$\n",
    "{}^{tool} p_{tool} - {}^{tool} p_0 = {}^{tool} R_0 {}^0 T_{tool}.\n",
    "$$"
   ]
  },
  {
   "cell_type": "markdown",
   "metadata": {},
   "source": [
    "Take care with the multiplication operator in NumPy: the operator ``*`` is (unintuitively) mapped to the coefficient-wise multiplication (*a.k.a.* the [Hadamard product](Hadamard product)), that is, **not** the usual matrix multiplication. You should use the operator ``@`` to get an actual matrix-to-matrix dot product. (Or never mind: you will likely be tricked at least once by this, then remember it out of spite 😅) "
   ]
  },
  {
   "cell_type": "markdown",
   "metadata": {},
   "source": [
    "### Computing Jacobians\n",
    "The Jacobian of a frame of the robot is computed using `pin.computeFrameJacobian`:"
   ]
  },
  {
   "cell_type": "code",
   "execution_count": 84,
   "metadata": {},
   "outputs": [
    {
     "data": {
      "text/plain": [
       "(6, 15)"
      ]
     },
     "execution_count": 84,
     "metadata": {},
     "output_type": "execute_result"
    }
   ],
   "source": [
    "Jtool = pin.computeFrameJacobian(robot.model, robot.data, q, IDX_TOOL) # Computing Jacobians\n",
    "Jtool.shape"
   ]
  },
  {
   "cell_type": "markdown",
   "metadata": {},
   "source": [
    "This matrix has 6 rows and ``robot.model.nv == 15`` columns. It corresponds to the \"body\" 6D velocity of the end effector, that is, vectors in the image of this Jacobian matrix are expressed in $F_{tool}$ rather than in $F_0$. Let's first focus on the first three rows. Those correspond to the linear velocity of the tool frame, in the tool frame:"
   ]
  },
  {
   "cell_type": "code",
   "execution_count": 85,
   "metadata": {},
   "outputs": [],
   "source": [
    "Jtool3 = Jtool[:3,:] # The liner velocity"
   ]
  },
  {
   "cell_type": "markdown",
   "metadata": {},
   "source": [
    "#### Jacobian as a velocity operator\n",
    "A first way to understand what is this matrix is to see that as an operator that converts the velocity in the configuration space to the linear velocity of the tool:"
   ]
  },
  {
   "cell_type": "code",
   "execution_count": 86,
   "metadata": {},
   "outputs": [
    {
     "name": "stdout",
     "output_type": "stream",
     "text": [
      "[ 0.6580446  -0.80579721 -0.1446098   0.29188334  0.25997395 -0.15480941\n",
      " -0.14243751  0.00987428  0.10322341 -0.40912672 -0.01136651  0.53929544\n",
      " -0.80307344  0.94683652  0.95910107]\n"
     ]
    }
   ],
   "source": [
    "vtool = Jtool3 @ vq\n",
    "print(vq)\n"
   ]
  },
  {
   "cell_type": "markdown",
   "metadata": {},
   "source": [
    "But in which frame is $v_{tool}$ expressed? The choice in Pinocchio (following the principles described in [Rigid body dynamics algorithms](https://doi.org/10.1007/978-1-4899-7560-7)) is to express quantities in the local frame by default. Therefore, ``vtool`` here is ${}^{tool} v_{tool}$, expressed in the tool frame $F_{tool}$. We can compute the velocity in the world frame $F_0$ by applying the rotation matrix $^{0}R_{tool}$:"
   ]
  },
  {
   "cell_type": "code",
   "execution_count": 87,
   "metadata": {},
   "outputs": [],
   "source": [
    "tool_vtool = vtool\n",
    "o_vtool = oMtool.rotation @ vtool"
   ]
  },
  {
   "cell_type": "markdown",
   "metadata": {},
   "source": [
    "The resulting velocity, that we denote by ${}^0 v_{tool}$ here, is ${}^{tool} v_{tool}$ rotated to the world frame."
   ]
  },
  {
   "cell_type": "code",
   "execution_count": 88,
   "metadata": {},
   "outputs": [],
   "source": [
    "tool_Jtool = pin.computeFrameJacobian(robot.model, robot.data, q, IDX_TOOL, pin.LOCAL)\n",
    "tool_Jtool3 = tool_Jtool[:3,:]"
   ]
  },
  {
   "cell_type": "markdown",
   "metadata": {},
   "source": [
    "We are using long variable names here to keep track. (A common practice is to only shorten these variable names when their full meaning is clear from context.) We can generalize this notation to the Jacobian part dedidcated to linear velocity expressed in the world frame $F_0$:"
   ]
  },
  {
   "cell_type": "code",
   "execution_count": 89,
   "metadata": {},
   "outputs": [
    {
     "name": "stdout",
     "output_type": "stream",
     "text": [
      "(3, 15)\n"
     ]
    }
   ],
   "source": [
    "\n",
    "o_Jtool3 = oMtool.rotation @ tool_Jtool3\n",
    "print(o_Jtool3.shape)"
   ]
  },
  {
   "cell_type": "markdown",
   "metadata": {},
   "source": [
    "To be more precise, the relation between Jacobian, motion and frame is:\n",
    "$$\n",
    "^{tool}J_{tool} \\dot{q} = ^{tool}w_{tool} = \\begin{bmatrix} ^{tool}v_{tool} \\\\ ^{tool}\\omega_{tool} \\end{bmatrix}\n",
    "$$\n",
    "Here ${}^{tool} w_{tool}$ is the *twist* (the instantaneous rigid-body motion, including both linear and angular velocity) from frame $F_{tool}$ to frame $F_0$, expressed in $F_{tool}$ itself. Mathematically, twist is just a name for any element of the Lie algebra $\\mathfrak{se}(3)$ acting on $SE(3)$. We can interpret $^{tool}v_{tool}$ as the point velocity of the origin of frame $F_{tool}$, expressed in itself, and $^{tool}\\omega_{tool}$ as the instaneous rotation axis/amplitude."
   ]
  },
  {
   "cell_type": "markdown",
   "metadata": {},
   "source": [
    "#### Adjoint operator\n",
    "\n",
    "We can also compute the twist ${}^0 w_{tool}$ in the world frame. Its formula is given by:\n",
    "$$\n",
    "^{0}w_{tool} = ^{0}J_{tool}\\dot{q} = ^{0}X_{tool}\\vphantom{.}^{tool}J_{tool} \\dot{q}\n",
    "$$\n",
    "where $^{0}X_{tool}$ is the *adjoint operator* related to $^{0}R_{tool}, ^{0}T_{tool}$ that allows us to change frame for elements of $\\mathfrak{se}(3)$. We can note that:\n",
    "$$\n",
    "^{0}w_{tool}\n",
    "= ^{0}X_{tool} \\begin{bmatrix} ^{tool}v_{tool} \\\\ ^{tool}\\omega_{tool} \\end{bmatrix} \n",
    "= \\begin{bmatrix} ^0R_{tool}\\vphantom{.}^{tool}v_{tool} + [{}^{0}T_{tool} \\times] ^0R_{tool}\\vphantom{.}^{tool}\\omega_{tool} \\\\ {}^{0} R_{tool}\\vphantom{.}^{tool}\\omega_{tool} \\end{bmatrix} \n",
    "=\\begin{bmatrix} ^0v_{tool} + [{}^{0} T_{tool} \\times] ^{0}\\omega_{tool} \\\\ ^{0}\\omega_{tool} \\end{bmatrix},\n",
    "$$\n",
    "where $[u \\times]$ denotes the skew-symmetric cross-product matrix of vector $u \\in \\mathbb{R}^3$. Note here that the angular component of $^{0}w_{tool}$ is indeed $^{0}\\omega_{tool} = {}^{0} R_{tool} {}^{tool} \\omega_{tool}$, but the linear part is **not** the vector $^0v_{tool}$ from above. Instead, the Varignon formula applies. This does not have an easy interpretation on its own: the linear velocity in the twist ${}^0 w_{tool}$ corresponds to the instantaneous velocity of a point of the tool frame that coincides with the origin of the world frame, expressed in the world frame."
   ]
  },
  {
   "cell_type": "markdown",
   "metadata": {},
   "source": [
    "#### Jacobian as a derivative of frame placements\n",
    "\n",
    "Previously, we saw Jacobians as operators transforming configuration velocities into twists. A second interpretation of is to observe that it is the derivative of the placement following $q$. For the three first colums, it is the derivative of the vector $^0T_{tool} = (o_{tool} - o_0)$ the tool position in world frame. Indeed $^0T_{tool}$ is a function of $q$, $^0T_{tool}(q)$ in full. We can take its derivative with respect to $q$, denoted $\\frac{\\partial ^0T_{tool}}{\\partial q}$. This derivative is equal to the Jacobian expressed in the world frame $F_0$: $\\frac{\\partial ^0T}{\\partial q} = \\vphantom{.}^0J_{tool3}$.\n",
    "\n",
    "The global Jacobian is the same for the whole motion expression, using the algebra of the Lie group $SE(3)$:\n",
    "\n",
    "$$\n",
    "^{tool}J_{tool}(q) u = \\lim_{t \\to 0^+}\\frac{^{0}M_{tool}(q \\oplus_{\\mathcal{C}} tu) \\ominus_{SE(3)} \\vphantom{.}^{0}M_{tool}(q)}{t}\n",
    "$$\n",
    "\n",
    "where the $\\oplus_{\\mathcal{C}}$ operator is the exponential on the configuration space $\\mathcal{C}$, implemented for us by Pinocchio's `pin.integrate(model, q, dq)` function. You can think of it by analogy with $SE(3)$:\n",
    "\n",
    "$$\n",
    "{}^{0} M_{tool} \\oplus_{SE(3)} ({}^{tool} \\omega_{tool} T) = {}^0 M_{tool} \\exp({}^{tool} \\omega_{tool} T)\n",
    "$$\n",
    "\n",
    "The minus operator $\\ominus_{SE(3)}$ corresponds to the logarithm:\n",
    "\n",
    "$$\n",
    "{}^{0} M_{goal} \\ominus_{SE(3)} {}^0 M_{tool} = \\log({}^0 M_{tool}^{-1} {}^0 M_{goal}) = \\log({}^{tool} M_{goal})\n",
    "$$\n",
    "\n",
    "In this expression, the resulting vector $\\log({}^{tool} M_{goal})$ belongs to the tool frame $F_{tool}$ (informally, $\\log({}^b M_a)$ is in frame $b$). In Lie groups, be it $SE(3)$ to describe rigid-body transformations, or $\\mathcal{C}$ the configuration space of our robot, things don't commute. If we had taken ${}^{0} M_{tool} \\ominus_{SE(3)} {}^{0} M_{goal}$ instead, we would have obtained a twist in the goal frame.\n",
    "\n",
    "To convince ourselves of these observations, let's check finite differences. We can take a small displacement $\\delta q$, and check that the change in position ${}^0 T_{tool}(q + \\delta q)$ matches the linear prediction ${}^0 J_{tool3} \\delta q$:\n"
   ]
  },
  {
   "cell_type": "code",
   "execution_count": 90,
   "metadata": {},
   "outputs": [
    {
     "name": "stdout",
     "output_type": "stream",
     "text": [
      "(15,)\n",
      "Full Jacobian in the tool frame:\n",
      "With a Jac: [-1.03594087 -1.41332663  0.01116242  1.53972594 -0.03481801 -1.7399903 ]\n",
      "With a log: [-1.03586305 -1.41340175  0.01121594  1.53978249 -0.03477802 -1.73992763]\n",
      "\n",
      "Origin velocity in the world frame:\n",
      "With a Jac: [-1.41987417  0.41272869  0.94042682]\n",
      "With a log: [-1.41986774  0.41284827  0.94041186]\n",
      "With fdiff: [-1.41987877  0.4126709   0.94047305]\n"
     ]
    }
   ],
   "source": [
    "\n",
    "# Sample between -0.001 and 0.001\n",
    "EPS = 1e-4\n",
    "u = (2 * np.random.rand(robot.model.nv) - 1)\n",
    "print(u.shape)\n",
    "dq = u*EPS\n",
    "\n",
    "\n",
    "# q2 = q+dq\n",
    "q2 = pin.integrate(robot.model, q, dq)\n",
    "\n",
    "# tool position for q\n",
    "pin.framesForwardKinematics(robot.model,robot.data,q)\n",
    "o_M_tool = robot.data.oMf[IDX_TOOL].copy()\n",
    "o_T_tool = o_M_tool.translation\n",
    "\n",
    "# tool position for q+dq q2\n",
    "pin.framesForwardKinematics(robot.model,robot.data,q2)\n",
    "o_M_tool2 = robot.data.oMf[IDX_TOOL].copy()\n",
    "o_T_tool2 = o_M_tool2.translation\n",
    "\n",
    "\n",
    "print(\"Full Jacobian in the tool frame:\")\n",
    "print(f\"With a Jac: {tool_Jtool @ u}\")\n",
    "print(f\"With a log: {pin.log(o_M_tool.inverse() * o_M_tool2).vector / EPS}\")\n",
    "\n",
    "print(\"\\nOrigin velocity in the world frame:\")\n",
    "print(f\"With a Jac: {o_Jtool3 @ u}\")\n",
    "print(f\"With a log: {o_M_tool.rotation @ pin.log(o_M_tool.inverse() * o_M_tool2).linear / EPS}\")\n",
    "print(f\"With fdiff: {(o_T_tool2 - o_T_tool) / EPS}\")"
   ]
  },
  {
   "cell_type": "markdown",
   "metadata": {},
   "source": [
    "#### Frame options in Pinocchio\n",
    "\n",
    "Most algorithms accept an option to specify in wich frame the spatial quantity should be expressed. The two basic options are `pin.LOCAL` and `pin.WORLD`. When related to velocity, *LOCAL* is the linear velocity of the center of the local frame (the TOOL_IDX frame, here) and the angular velocity, both expressed in the local frame. With *WORLD* frame, this is the instantaneous motion expressed in the world frame. It is also compose of a linear and an angular velocity but remember that the linear velocity is then difficult to interpret.\n",
    "\n",
    "A last option is given by convenience, which does not respect the mathematics of spatial velocity: `pin.LOCAL_WORLD_ALIGNED` gives the linear velocity of the center of the local frame and the angular velocity, both expressed in the world frame. It is convenient especially when we are interested to consider the linear velocity as the derivative of the position. This is what we did above.\n",
    "\n",
    "To recap:\n",
    "- `pin.LOCAL` gives $^{tool}w_{tool} = [^{tool}v_{tool}, ^{tool}\\omega_{tool}]$\n",
    "- `pin.WORLD` gives $^{0}w_{tool} =\\vphantom{.}^{0}X_{tool}\\vphantom{.}^{tool}w_{tool}=\\left(\\begin{array}{c|c} \n",
    "  ^0R_{tool} & [^0T_{tool}]_{\\times}\\vphantom{.}^0R_{tool} \\\\ \n",
    "  \\hline \n",
    "  0 & ^0R_{tool}\n",
    "\\end{array} \n",
    "\\right)\\vphantom{.}^{0}w_{tool}$\n",
    "- `pin.LOCAL_WORLD_ALIGNED` gives $[^{0}v_{tool}, ^{0}\\omega_{tool}]=\\left(\n",
    "\\begin{array}{c|c} \n",
    "  ^0R_{tool} & 0 \\\\ \n",
    "  \\hline \n",
    "  0 & ^0R_{tool}\n",
    "\\end{array} \n",
    "\\right)\\vphantom{.}^{tool}w_{tool}$\n"
   ]
  },
  {
   "cell_type": "code",
   "execution_count": 91,
   "metadata": {},
   "outputs": [
    {
     "name": "stdout",
     "output_type": "stream",
     "text": [
      "With spatial Jacobian:        [-0.78120273  2.8853996  -0.71681657  1.97464112  0.28790835  1.1905611 ]\n",
      "With adjoint * body Jacobian: [-0.7812027   2.8853996  -0.71681656  1.97464113  0.28790833  1.19056109]\n",
      "[-1.03594087 -1.41332663  0.01116242  1.53972594 -0.03481801 -1.7399903 ]\n",
      "o_Jtool3 from body Jacobian:  [-1.41989621  0.41237394  0.94054917]\n",
      "Local-world-aligned Jacobian: [-1.41987417  0.41272869  0.94042682]\n"
     ]
    }
   ],
   "source": [
    "# 0_w_tool and tool_w_tool\n",
    "tool_Jtool = pin.computeFrameJacobian(robot.model,robot.data,q,IDX_TOOL, pin.LOCAL)\n",
    "o_Jtool = pin.computeFrameJacobian(robot.model,robot.data,q,IDX_TOOL, pin.WORLD)\n",
    "print(f\"With spatial Jacobian:        {o_Jtool @ u}\")\n",
    "print(f\"With adjoint * body Jacobian: {oMtool.action @ (tool_Jtool @ u)}\")\n",
    "print(tool_Jtool @ u)\n",
    "\n",
    "# 0_v_tool and tool_w_tool\n",
    "o_Jtool3 = oMtool.rotation @ tool_Jtool[:3, :]\n",
    "\n",
    "new_o_Jtool3 = pin.computeFrameJacobian(robot.model,robot.data,q,IDX_TOOL, pin.LOCAL_WORLD_ALIGNED)[:3,:]\n",
    "print(f\"o_Jtool3 from body Jacobian:  {o_Jtool3 @ u}\")\n",
    "print(f\"Local-world-aligned Jacobian: {new_o_Jtool3 @ u}\")\n"
   ]
  },
  {
   "cell_type": "markdown",
   "metadata": {},
   "source": [
    "You can also check out [this video](https://www.youtube.com/watch?v=MLFtHLTprE4) for more illustrations on these three frame options."
   ]
  },
  {
   "cell_type": "markdown",
   "metadata": {},
   "source": [
    "## Inverse kinematics for the moving the robot effector\n",
    "We will first move only the robot end effector, to reach a target defined by a frame F_goal."
   ]
  },
  {
   "cell_type": "code",
   "execution_count": 92,
   "metadata": {},
   "outputs": [],
   "source": [
    "# Goal placement, and integration in the viewer of the goal.\n",
    "oMgoal = pin.SE3(pin.Quaternion(-0.5, 0.58, -0.39, 0.52).normalized().matrix(), np.array([1.2, .4, .7]))\n",
    "viz.addBox('goal', [0.1,0.5,.1], [ .1,.1,.5, .6])\n",
    "viz.applyConfiguration('goal',oMgoal)\n"
   ]
  },
  {
   "cell_type": "markdown",
   "metadata": {},
   "source": [
    "### Position the effector (3D)\n",
    "\n",
    "It is time to write your first control law. Write a for loop to simulate the control cycles of the robot. At each control cycle, you should:\n",
    "\n",
    "* compute the Jacobian 3D in the world frame `o_Jtool3`\n",
    "* compute the vector from the tool to the goal, expressed in world frame: `o_TG = o_goal - o_tool`\n",
    "* compute the control law as `vq = pinv(o_Jtool3) @ o_TG`\n",
    "* integrate this during a duration `DT` to get to a new configuration `q`.\n",
    "\n",
    "You might want to start from the following initial configuration, or from any random one.\n",
    "\n",
    "Note that [`numpy.linalg.pinv`](https://numpy.org/doc/stable/reference/generated/numpy.linalg.pinv.html) in `pinv(J)` computes $J^+$, the Moore-Penrose pseudo-inverse of $J$. Precisely, for any vector $e$, $J^+ e$ is the solution of the linear least square problem:\n",
    "$$\\min_x \\|Jx - e\\|_2^2.$$ (If $J$ is not full rank and there are multiple such solutions, it corresponds to the one of minimum L2 norm $\\| x \\|$.)"
   ]
  },
  {
   "cell_type": "code",
   "execution_count": 93,
   "metadata": {},
   "outputs": [
    {
     "name": "stdout",
     "output_type": "stream",
     "text": [
      "(18,)\n"
     ]
    }
   ],
   "source": [
    "# Robot initial configuration\n",
    "q0 = np.array([ 0.  ,  0.  ,  1  , 0  ,  \n",
    "               0.18,  \n",
    "               1.37, -0.24, -0.98,  0.98, 0.  ,  0.  ,  0.  ,\n",
    "                0.  , -0.13,  \n",
    "                0., 0. ,  0.  ,  0.  ])\n",
    "print(q0.shape)\n",
    "viz.display(q0)\n",
    "DT = 1e-2  # seconds\n",
    "pin.framesForwardKinematics(robot.model, robot.data, q0)"
   ]
  },
  {
   "cell_type": "markdown",
   "metadata": {},
   "source": [
    "It is a good idea to store the values of the error between tool and goal (`o_TG`), to plot them later. For that, simply append each `o_TG` computed at every control cycle to a list:"
   ]
  },
  {
   "cell_type": "code",
   "execution_count": 106,
   "metadata": {},
   "outputs": [
    {
     "name": "stdout",
     "output_type": "stream",
     "text": [
      "iteration_time 0\n",
      "iteration_time 1\n",
      "iteration_time 2\n",
      "iteration_time 3\n",
      "iteration_time 4\n",
      "iteration_time 5\n",
      "iteration_time 6\n",
      "iteration_time 7\n",
      "iteration_time 8\n",
      "iteration_time 9\n",
      "iteration_time 10\n",
      "iteration_time 11\n",
      "iteration_time 12\n",
      "iteration_time 13\n",
      "iteration_time 14\n",
      "iteration_time 15\n",
      "iteration_time 16\n",
      "iteration_time 17\n",
      "iteration_time 18\n",
      "iteration_time 19\n",
      "iteration_time 20\n",
      "iteration_time 21\n",
      "iteration_time 22\n",
      "iteration_time 23\n",
      "iteration_time 24\n",
      "iteration_time 25\n",
      "iteration_time 26\n",
      "iteration_time 27\n",
      "iteration_time 28\n",
      "iteration_time 29\n",
      "iteration_time 30\n",
      "iteration_time 31\n",
      "iteration_time 32\n",
      "iteration_time 33\n",
      "iteration_time 34\n",
      "iteration_time 35\n",
      "iteration_time 36\n",
      "iteration_time 37\n",
      "iteration_time 38\n",
      "iteration_time 39\n",
      "iteration_time 40\n",
      "iteration_time 41\n",
      "iteration_time 42\n",
      "iteration_time 43\n",
      "iteration_time 44\n",
      "iteration_time 45\n",
      "iteration_time 46\n",
      "iteration_time 47\n",
      "iteration_time 48\n",
      "iteration_time 49\n",
      "iteration_time 50\n",
      "iteration_time 51\n",
      "iteration_time 52\n",
      "iteration_time 53\n",
      "iteration_time 54\n",
      "iteration_time 55\n",
      "iteration_time 56\n",
      "iteration_time 57\n",
      "iteration_time 58\n",
      "iteration_time 59\n",
      "iteration_time 60\n",
      "iteration_time 61\n",
      "iteration_time 62\n",
      "iteration_time 63\n",
      "iteration_time 64\n",
      "iteration_time 65\n",
      "iteration_time 66\n",
      "iteration_time 67\n",
      "iteration_time 68\n",
      "iteration_time 69\n",
      "iteration_time 70\n",
      "iteration_time 71\n",
      "iteration_time 72\n",
      "iteration_time 73\n",
      "iteration_time 74\n",
      "iteration_time 75\n",
      "iteration_time 76\n",
      "iteration_time 77\n",
      "iteration_time 78\n",
      "iteration_time 79\n",
      "iteration_time 80\n",
      "iteration_time 81\n",
      "iteration_time 82\n",
      "iteration_time 83\n",
      "iteration_time 84\n",
      "iteration_time 85\n",
      "iteration_time 86\n",
      "iteration_time 87\n",
      "iteration_time 88\n",
      "iteration_time 89\n",
      "iteration_time 90\n",
      "iteration_time 91\n",
      "iteration_time 92\n",
      "iteration_time 93\n",
      "iteration_time 94\n",
      "iteration_time 95\n",
      "iteration_time 96\n",
      "iteration_time 97\n",
      "iteration_time 98\n",
      "iteration_time 99\n",
      "iteration_time 100\n",
      "iteration_time 101\n",
      "iteration_time 102\n",
      "iteration_time 103\n",
      "iteration_time 104\n",
      "iteration_time 105\n",
      "iteration_time 106\n",
      "iteration_time 107\n",
      "iteration_time 108\n",
      "iteration_time 109\n",
      "iteration_time 110\n",
      "iteration_time 111\n",
      "iteration_time 112\n",
      "iteration_time 113\n",
      "iteration_time 114\n",
      "iteration_time 115\n",
      "iteration_time 116\n",
      "iteration_time 117\n",
      "iteration_time 118\n",
      "iteration_time 119\n",
      "iteration_time 120\n",
      "iteration_time 121\n",
      "iteration_time 122\n",
      "iteration_time 123\n",
      "iteration_time 124\n",
      "iteration_time 125\n",
      "iteration_time 126\n",
      "iteration_time 127\n",
      "iteration_time 128\n",
      "iteration_time 129\n",
      "iteration_time 130\n",
      "iteration_time 131\n",
      "iteration_time 132\n",
      "iteration_time 133\n",
      "iteration_time 134\n",
      "iteration_time 135\n",
      "iteration_time 136\n",
      "iteration_time 137\n",
      "iteration_time 138\n",
      "iteration_time 139\n",
      "iteration_time 140\n",
      "iteration_time 141\n",
      "iteration_time 142\n",
      "iteration_time 143\n",
      "iteration_time 144\n",
      "iteration_time 145\n",
      "iteration_time 146\n",
      "iteration_time 147\n",
      "iteration_time 148\n",
      "iteration_time 149\n",
      "iteration_time 150\n",
      "iteration_time 151\n",
      "iteration_time 152\n",
      "iteration_time 153\n",
      "iteration_time 154\n",
      "iteration_time 155\n",
      "iteration_time 156\n",
      "iteration_time 157\n",
      "iteration_time 158\n",
      "iteration_time 159\n",
      "iteration_time 160\n",
      "iteration_time 161\n",
      "iteration_time 162\n",
      "iteration_time 163\n",
      "iteration_time 164\n",
      "iteration_time 165\n",
      "iteration_time 166\n",
      "iteration_time 167\n",
      "iteration_time 168\n",
      "iteration_time 169\n",
      "iteration_time 170\n",
      "iteration_time 171\n",
      "iteration_time 172\n",
      "iteration_time 173\n",
      "iteration_time 174\n",
      "iteration_time 175\n",
      "iteration_time 176\n",
      "iteration_time 177\n",
      "iteration_time 178\n",
      "iteration_time 179\n",
      "iteration_time 180\n",
      "iteration_time 181\n",
      "iteration_time 182\n",
      "iteration_time 183\n",
      "iteration_time 184\n",
      "iteration_time 185\n",
      "iteration_time 186\n",
      "iteration_time 187\n",
      "iteration_time 188\n",
      "iteration_time 189\n",
      "iteration_time 190\n",
      "iteration_time 191\n",
      "iteration_time 192\n",
      "iteration_time 193\n",
      "iteration_time 194\n",
      "iteration_time 195\n",
      "iteration_time 196\n",
      "iteration_time 197\n",
      "iteration_time 198\n",
      "iteration_time 199\n",
      "iteration_time 200\n",
      "iteration_time 201\n",
      "iteration_time 202\n",
      "iteration_time 203\n",
      "iteration_time 204\n",
      "iteration_time 205\n",
      "iteration_time 206\n",
      "iteration_time 207\n",
      "iteration_time 208\n",
      "iteration_time 209\n",
      "iteration_time 210\n",
      "iteration_time 211\n",
      "iteration_time 212\n",
      "iteration_time 213\n",
      "iteration_time 214\n",
      "iteration_time 215\n",
      "iteration_time 216\n",
      "iteration_time 217\n",
      "iteration_time 218\n",
      "iteration_time 219\n",
      "iteration_time 220\n",
      "iteration_time 221\n",
      "iteration_time 222\n",
      "iteration_time 223\n",
      "iteration_time 224\n",
      "iteration_time 225\n",
      "iteration_time 226\n",
      "iteration_time 227\n",
      "iteration_time 228\n",
      "iteration_time 229\n",
      "iteration_time 230\n",
      "iteration_time 231\n",
      "iteration_time 232\n",
      "iteration_time 233\n",
      "iteration_time 234\n",
      "iteration_time 235\n",
      "iteration_time 236\n",
      "iteration_time 237\n",
      "iteration_time 238\n",
      "iteration_time 239\n",
      "iteration_time 240\n",
      "iteration_time 241\n",
      "iteration_time 242\n",
      "iteration_time 243\n",
      "iteration_time 244\n",
      "iteration_time 245\n",
      "iteration_time 246\n",
      "iteration_time 247\n",
      "iteration_time 248\n",
      "iteration_time 249\n",
      "iteration_time 250\n",
      "iteration_time 251\n",
      "iteration_time 252\n",
      "iteration_time 253\n",
      "iteration_time 254\n",
      "iteration_time 255\n",
      "iteration_time 256\n",
      "iteration_time 257\n",
      "iteration_time 258\n",
      "iteration_time 259\n",
      "iteration_time 260\n",
      "iteration_time 261\n",
      "iteration_time 262\n",
      "iteration_time 263\n",
      "iteration_time 264\n",
      "iteration_time 265\n",
      "iteration_time 266\n",
      "iteration_time 267\n",
      "iteration_time 268\n",
      "iteration_time 269\n",
      "iteration_time 270\n",
      "iteration_time 271\n",
      "iteration_time 272\n",
      "iteration_time 273\n",
      "iteration_time 274\n",
      "iteration_time 275\n",
      "iteration_time 276\n",
      "iteration_time 277\n",
      "iteration_time 278\n",
      "iteration_time 279\n",
      "iteration_time 280\n",
      "iteration_time 281\n",
      "iteration_time 282\n",
      "iteration_time 283\n",
      "iteration_time 284\n",
      "iteration_time 285\n",
      "iteration_time 286\n",
      "iteration_time 287\n",
      "iteration_time 288\n",
      "iteration_time 289\n",
      "iteration_time 290\n",
      "iteration_time 291\n",
      "iteration_time 292\n",
      "iteration_time 293\n",
      "iteration_time 294\n",
      "iteration_time 295\n",
      "iteration_time 296\n",
      "iteration_time 297\n",
      "iteration_time 298\n",
      "iteration_time 299\n",
      "iteration_time 300\n",
      "iteration_time 301\n",
      "iteration_time 302\n",
      "iteration_time 303\n",
      "iteration_time 304\n",
      "iteration_time 305\n",
      "iteration_time 306\n",
      "iteration_time 307\n",
      "iteration_time 308\n",
      "iteration_time 309\n",
      "iteration_time 310\n",
      "iteration_time 311\n",
      "iteration_time 312\n",
      "iteration_time 313\n",
      "iteration_time 314\n",
      "iteration_time 315\n",
      "iteration_time 316\n",
      "iteration_time 317\n",
      "iteration_time 318\n",
      "iteration_time 319\n",
      "iteration_time 320\n",
      "iteration_time 321\n",
      "iteration_time 322\n",
      "iteration_time 323\n",
      "iteration_time 324\n",
      "iteration_time 325\n",
      "iteration_time 326\n",
      "iteration_time 327\n",
      "iteration_time 328\n",
      "iteration_time 329\n",
      "iteration_time 330\n",
      "iteration_time 331\n",
      "iteration_time 332\n",
      "iteration_time 333\n",
      "iteration_time 334\n",
      "iteration_time 335\n",
      "iteration_time 336\n",
      "iteration_time 337\n",
      "iteration_time 338\n",
      "iteration_time 339\n",
      "iteration_time 340\n",
      "iteration_time 341\n",
      "iteration_time 342\n",
      "iteration_time 343\n",
      "iteration_time 344\n",
      "iteration_time 345\n",
      "iteration_time 346\n",
      "iteration_time 347\n",
      "iteration_time 348\n",
      "iteration_time 349\n",
      "iteration_time 350\n",
      "iteration_time 351\n",
      "iteration_time 352\n",
      "iteration_time 353\n",
      "iteration_time 354\n",
      "iteration_time 355\n",
      "iteration_time 356\n",
      "iteration_time 357\n",
      "iteration_time 358\n",
      "iteration_time 359\n",
      "iteration_time 360\n",
      "iteration_time 361\n",
      "iteration_time 362\n",
      "iteration_time 363\n",
      "iteration_time 364\n",
      "iteration_time 365\n",
      "iteration_time 366\n",
      "iteration_time 367\n",
      "iteration_time 368\n",
      "iteration_time 369\n",
      "iteration_time 370\n",
      "iteration_time 371\n",
      "iteration_time 372\n",
      "iteration_time 373\n",
      "iteration_time 374\n",
      "iteration_time 375\n",
      "iteration_time 376\n",
      "iteration_time 377\n",
      "iteration_time 378\n",
      "iteration_time 379\n",
      "iteration_time 380\n",
      "iteration_time 381\n",
      "iteration_time 382\n",
      "iteration_time 383\n",
      "iteration_time 384\n",
      "iteration_time 385\n",
      "iteration_time 386\n",
      "iteration_time 387\n",
      "iteration_time 388\n",
      "iteration_time 389\n",
      "iteration_time 390\n",
      "iteration_time 391\n",
      "iteration_time 392\n",
      "iteration_time 393\n"
     ]
    }
   ],
   "source": [
    "q = q0.copy()\n",
    "herr = [] # Log the value of the error between tool and goal.\n",
    "pin.framesForwardKinematics(robot.model, robot.data, q0)\n",
    "oMtool = robot.data.oMf[IDX_TOOL]\n",
    "\n",
    "for i in range(5000):  # Integrate over 2 second of robot life\n",
    "    \n",
    "    # REPLACE WITH YOUR CODE\n",
    "    pin.framesForwardKinematics(robot.model, robot.data, q)\n",
    "    o_M_tool = robot.data.oMf[IDX_TOOL].copy()\n",
    "    intial_position = o_M_tool.translation\n",
    "\n",
    "    # Here we use the Body jacobien to compute the eeffector linear velocity\n",
    "    tool_Jtool = pin.computeFrameJacobian(robot.model,robot.data,q,IDX_TOOL, pin.LOCAL) \n",
    "    o_Jtool3 = oMtool.rotation @ tool_Jtool[:3, :]\n",
    "\n",
    "    goal_position = oMgoal.translation\n",
    "    diff = goal_position-intial_position\n",
    "    o_TG = np.linalg.norm(goal_position-intial_position)\n",
    "    du = pinv(o_Jtool3)@diff\n",
    "    q= pin.integrate(robot.model,q,du*DT)\n",
    "\n",
    "    viz.display(q)\n",
    "    time.sleep(1e-3)\n",
    "    herr.append(o_TG)\n",
    "    print(\"iteration_time\",i)\n",
    "    if o_TG <0.01:\n",
    "        break"
   ]
  },
  {
   "cell_type": "markdown",
   "metadata": {},
   "source": [
    "It is interesting to plot the behavior of the robot. If the error at each iteration has been stored as a list of 3x1 matrices, the following code plots it."
   ]
  },
  {
   "cell_type": "code",
   "execution_count": 107,
   "metadata": {},
   "outputs": [
    {
     "data": {
      "text/plain": [
       "Text(0, 0.5, 'error (m)')"
      ]
     },
     "execution_count": 107,
     "metadata": {},
     "output_type": "execute_result"
    },
    {
     "data": {
      "image/png": "[encoded data removed]",
      "text/plain": [
       "<Figure size 640x480 with 1 Axes>"
      ]
     },
     "metadata": {},
     "output_type": "display_data"
    }
   ],
   "source": [
    "plt.plot(herr)\n",
    "plt.xlabel('control cycle (iter)')\n",
    "plt.ylabel('error (m)')"
   ]
  },
  {
   "cell_type": "markdown",
   "metadata": {},
   "source": [
    "We can observe that each component of the error converges to zero following an exponential trajetory. The convergence is asymptotic. To fasten the convergence, increase the gain of the control law ($v_q = - \\lambda J^+ e$), where the gain $\\lambda$ was implicitly one so far."
   ]
  },
  {
   "cell_type": "markdown",
   "metadata": {},
   "source": [
    "### Place the end effector (6D)\n",
    "The previous control law brings the center of the effector toward the center of the goal frame. However, it does not control the orientation of the end effector: the axes of the two frames $F_{tool}$ and $F_{goal}$ do not converge.\n",
    "\n",
    "We now want to modify the control law to take into account both tool translation and tool orientation. For that, let us compute the error in $SE(3)$. We will use the full ${}^{0} J_{tool}$ rather than ${}^o J_{tool3}$, and compute the error vector as the generalized difference between the tool frame and the goal frame:\n",
    "\n",
    "$$^{tool}M_{goal} = \\vphantom{.}^{0}M_{tool}^{-1} \\vphantom{.}^{0}M_{goal}$$\n",
    "$$^{tool}w_{goal} = \\vphantom{.}^{0}M_{tool} \\ominus_{SE(3)} \\vphantom{.}^{0}M_{tool} = \\log(^{tool}M_{goal})$$\n",
    "where $^{tool}w_{goal}$ is a twist in the local frame."
   ]
  },
  {
   "cell_type": "code",
   "execution_count": 96,
   "metadata": {},
   "outputs": [],
   "source": [
    "toolMgoal = oMtool.inverse() * oMgoal\n",
    "\n",
    "tool_w = pin.log(toolMgoal).vector\n"
   ]
  },
  {
   "cell_type": "markdown",
   "metadata": {},
   "source": [
    "This error `tool_w` is can be interpreted as the twist that should be applied during one second to displace the tool frame $F_tool$ (located at ${}^0 M_{tool}$) to the goal frame $F_{goal}$ (located at ${}^0 M_{goal}$).\n",
    "\n",
    "Implement a second control law, following the same pattern as with positions. At each control cycle, you should:\n",
    "\n",
    "* compute the displacement between $F_{tool}$ and $F_{goal}$, denoted by ``toolMgoal``\n",
    "* compute the error twist ``tool_w`` using the logarithm over $SE(3)$\n",
    "* compute the 6D Jacobian `tool_Jtool`\n",
    "* compute the control law `vq = pinv(J) @ nu`\n",
    "* integrate the robot velocity `vq` during `DT` to get to a new configuration `q`\n",
    "* log the error by storing it in a list `herr`."
   ]
  },
  {
   "cell_type": "code",
   "execution_count": 97,
   "metadata": {},
   "outputs": [],
   "source": [
    "q_1 = q0.copy()\n",
    "\n",
    "viz.display(q0)\n",
    "herr = [] # Log the value of the error between tool and goal.\n",
    "pin.framesForwardKinematics(robot.model, robot.data, q_1)\n",
    "o_M_tool = robot.data.oMf[IDX_TOOL]\n",
    "\n",
    "# Goal placement, and integration in the viewer of the goal.\n",
    "oMgoal = pin.SE3(pin.Quaternion(-0.5, 0.58, -0.39, 0.52).normalized().matrix(), np.array([1.2, .4, .7]))\n",
    "\n",
    "# for i in range(500):  # Integrate over 2 second of robot life\n",
    "    \n",
    "#     # REPLACE WITH YOUR CODE\n",
    "#     pin.framesForwardKinematics(robot.model, robot.data, q_1)\n",
    "#     o_M_tool = robot.data.oMf[IDX_TOOL].copy()\n",
    "#     tool_M_goal = o_M_tool.inverse()*oMgoal\n",
    "#     tool_w = pin.log(tool_M_goal).vector\n",
    "#     print(tool_w)\n",
    "\n",
    "#     # Here we use the Body jacobien to compute the eeffector linear velocity\n",
    "#     tool_Jtool = pin.computeFrameJacobian(robot.model,robot.data,q,IDX_TOOL, pin.WORLD) \n",
    "\n",
    "#     o_TG = np.linalg.norm(tool_w[3:])\n",
    "#     du = pinv(tool_Jtool)@ tool_w\n",
    "#     q_1= pin.integrate(robot.model,q,du*DT)\n",
    "\n",
    "#     viz.display(q_1)\n",
    "#     time.sleep(1e-3)\n",
    "#     herr.append(tool_w)\n",
    "#     print(\"iteration_time\",i)\n"
   ]
  },
  {
   "cell_type": "markdown",
   "metadata": {},
   "source": [
    "The tool frame $F_{tool}$ converges toward the goal frame $F_{goal}$ if and only if the frame origins and axes eventually coincide. Look at the trajectory of the origin of the tool frame: it is not a straight line, as the frame $F_{tool}$ follows a \"straight\" line in $SE(3)$ that does not match the one in the Euclidean space $\\mathbb{E}^3$. That's a fun fact!\n",
    "\n",
    "We can also plot the error (assuming that ``herr`` is a list of 6D errors):"
   ]
  },
  {
   "cell_type": "code",
   "execution_count": 98,
   "metadata": {},
   "outputs": [
    {
     "data": {
      "text/plain": [
       "Text(0, 0.5, 'error (rad)')"
      ]
     },
     "execution_count": 98,
     "metadata": {},
     "output_type": "execute_result"
    },
    {
     "data": {
      "image/png": "[encoded data removed]",
      "text/plain": [
       "<Figure size 640x480 with 2 Axes>"
      ]
     },
     "metadata": {},
     "output_type": "display_data"
    }
   ],
   "source": [
    "plt.subplot(211)\n",
    "plt.plot([ e[:3] for e in herr])\n",
    "plt.xlabel('control cycle (iter)')\n",
    "plt.ylabel('error (m)')\n",
    "plt.subplot(212)\n",
    "plt.plot([ e[3:] for e in herr])\n",
    "plt.xlabel('control cycle (iter)')\n",
    "plt.ylabel('error (rad)')"
   ]
  },
  {
   "cell_type": "markdown",
   "metadata": {},
   "source": [
    "### Inverse kinematics with two tasks\n",
    "\n",
    "So far we controlled the robot with a single task, either the 3D position or 6D placement of the tool frame. Let's see how to take into account a second task: gaze control.\n",
    "\n",
    "#### Gaze control\n",
    "\n",
    "The robot has an additional frame, named $F_{gaze}$, attached to its head and located 40 cm in front of its cameras. The task will be to position (3D) the origin of this frame on an object of interest (a red ball)."
   ]
  },
  {
   "cell_type": "code",
   "execution_count": 99,
   "metadata": {},
   "outputs": [
    {
     "name": "stdout",
     "output_type": "stream",
     "text": [
      "You can open the visualizer by visiting the following URL:\n",
      "http://127.0.0.1:7004/static/\n"
     ]
    }
   ],
   "source": [
    "robot = loadTiago(addGazeFrame=True)\n",
    "viz = MeshcatVisualizer(robot)"
   ]
  },
  {
   "cell_type": "code",
   "execution_count": 100,
   "metadata": {},
   "outputs": [],
   "source": [
    "IDX_GAZE = robot.model.getFrameId('framegaze')\n",
    "\n",
    "# Add a small ball as a visual target to be reached by the robot\n",
    "ball = np.array([ 1.2,0.5,1.1 ])\n",
    "viz.addSphere('ball', .05, [ .8,.1,.5, .8])\n",
    "viz.applyConfiguration('ball', list(ball)+[0,0,0,1])\n",
    "\n",
    "# Add the box again\n",
    "oMgoal = pin.SE3(pin.Quaternion(-0.5, 0.58, -0.39, 0.52).normalized().matrix(), np.array([1.2, .4, .7]))\n",
    "viz.addBox('goal', [.1,.1,.1], [ .1,.1,.5, .6])\n",
    "viz.applyConfiguration('goal', oMgoal)"
   ]
  },
  {
   "cell_type": "code",
   "execution_count": 101,
   "metadata": {},
   "outputs": [
    {
     "data": {
      "text/html": [
       "\n",
       "            <div style=\"height: 400px; width: 100%; overflow-x: auto; overflow-y: hidden; resize: both\">\n",
       "            <iframe src=\"http://127.0.0.1:7004/static/\" style=\"width: 100%; height: 100%; border: none\"></iframe>\n",
       "            </div>\n",
       "            "
      ],
      "text/plain": [
       "<IPython.core.display.HTML object>"
      ]
     },
     "execution_count": 101,
     "metadata": {},
     "output_type": "execute_result"
    }
   ],
   "source": [
    "viz.display(q0)\n",
    "viz.viewer.jupyter_cell()"
   ]
  },
  {
   "cell_type": "markdown",
   "metadata": {},
   "source": [
    "Controlling this point can be done by achieving a simple variation of the control law for positioning (3D) the robot tool:"
   ]
  },
  {
   "cell_type": "code",
   "execution_count": 102,
   "metadata": {},
   "outputs": [],
   "source": [
    "# Your code"
   ]
  },
  {
   "cell_type": "markdown",
   "metadata": {},
   "source": [
    "#### Multi-tasking\n",
    "\n",
    "We now have two tasks: $(e_1, J_1)$ for controlling the tool placement, and $(e_2, J_2)$ for controlling the gaze position. We can use the previous derivation to compute the optimal (in a least square sense) control for task 1:\n",
    "\n",
    "$$\n",
    "vq_1 = J_1^+ v_1^*\n",
    "$$\n",
    "\n",
    "We may now add to $vq_1$ any vector that lies is in the nullspace of $J_1$ to perform the second task. We thus search for $vq = vq_1 + dvq$, where $dvq$ gives an optimal control for task 2. The orthogonal nullspace projector of $J_1$ can be computed using the pseudoinverse:\n",
    "\n",
    "$$\n",
    "P_1 = I_{nq} - J_1^+ J_1\n",
    "$$\n",
    "\n",
    "Finally, the control law to perform task 2 in the nullspace of task 1 is:\n",
    "\n",
    "$$\n",
    "vq_2 = vq_1 + (J_2 P_1)^+ ( v_2^* - J_2 vq_1)\n",
    "$$\n",
    "\n",
    "You can now implement a control law solving the two tasks, that is, positioning the tool while controlling the gaze. Use $dvq$ as a solution to the minimisation problem:\n",
    "\n",
    "$$\n",
    "\\min_{x\\in Ker(J_1)} \\|J_2 (vq_1 + x) - v_2^*\\|_2^2\n",
    "$$\n"
   ]
  },
  {
   "cell_type": "code",
   "execution_count": 103,
   "metadata": {},
   "outputs": [],
   "source": [
    "q = q0.copy()\n",
    "herr = [] # Log the value of the error between tool and goal\n",
    "herr2 = [] # Log the value of the error between gaze and ball\n",
    "\n",
    "# Your code"
   ]
  },
  {
   "cell_type": "code",
   "execution_count": 104,
   "metadata": {},
   "outputs": [
    {
     "data": {
      "text/plain": [
       "Text(0, 0.5, 'error (rad)')"
      ]
     },
     "execution_count": 104,
     "metadata": {},
     "output_type": "execute_result"
    },
    {
     "data": {
      "image/png": "[encoded data removed]",
      "text/plain": [
       "<Figure size 640x480 with 3 Axes>"
      ]
     },
     "metadata": {},
     "output_type": "display_data"
    }
   ],
   "source": [
    "plt.subplot(311)\n",
    "plt.plot([ e[:3] for e in herr])\n",
    "plt.xlabel('control cycle (iter)')\n",
    "plt.ylabel('error (m)')\n",
    "plt.subplot(312)\n",
    "plt.plot([ e[3:] for e in herr])\n",
    "plt.xlabel('control cycle (iter)')\n",
    "plt.ylabel('error (rad)');\n",
    "plt.subplot(313)\n",
    "plt.plot([ e for e in herr2])\n",
    "plt.xlabel('control cycle (iter)')\n",
    "plt.ylabel('error (rad)')"
   ]
  },
  {
   "cell_type": "markdown",
   "metadata": {},
   "source": [
    "## Extension to three tasks"
   ]
  },
  {
   "cell_type": "markdown",
   "metadata": {},
   "source": [
    "A third task can be implemented as well by computing the nullspace of the two first tasks:"
   ]
  },
  {
   "cell_type": "code",
   "execution_count": 105,
   "metadata": {},
   "outputs": [
    {
     "ename": "NameError",
     "evalue": "name 'Ptool' is not defined",
     "output_type": "error",
     "traceback": [
      "\u001b[0;31m---------------------------------------------------------------------------\u001b[0m",
      "\u001b[0;31mNameError\u001b[0m                                 Traceback (most recent call last)",
      "Cell \u001b[0;32mIn[105], line 1\u001b[0m\n\u001b[0;32m----> 1\u001b[0m Pgaze \u001b[38;5;241m=\u001b[39m \u001b[43mPtool\u001b[49m \u001b[38;5;241m-\u001b[39m pinv(o_Jgaze3 \u001b[38;5;241m@\u001b[39m Ptool) \u001b[38;5;241m@\u001b[39m o_Jgaze3 \u001b[38;5;241m@\u001b[39m Ptool\n",
      "\u001b[0;31mNameError\u001b[0m: name 'Ptool' is not defined"
     ]
    }
   ],
   "source": [
    "Pgaze = Ptool - pinv(o_Jgaze3 @ Ptool) @ o_Jgaze3 @ Ptool"
   ]
  },
  {
   "cell_type": "markdown",
   "metadata": {},
   "source": [
    "Load an extra cube in the viewer to figure a table. First, control the robot hand to reach an arbitrary point on the table (don't worry about collisions). Then, implement a control law to control three tasks:\n",
    "* The tool frame should be kept on the table (only the vertical component of the error matters, select the third row of the Jacobian and error accordingly).\n",
    "* The gaze should reach the position of a ball positionned on the table.\n",
    "* The center of the mobile base frame should reach a given goal on the floor. For this task, only the horizontal components (x- and y-) of the task matter, select only the first two rows of the Jacobian and error accordingly."
   ]
  },
  {
   "cell_type": "code",
   "execution_count": null,
   "metadata": {},
   "outputs": [],
   "source": [
    "# Your code"
   ]
  },
  {
   "cell_type": "markdown",
   "metadata": {},
   "source": [
    "Congratulations! You just implemented a local optimal controller that can solve multiple tasks at once."
   ]
  }
 ],
 "metadata": {
  "kernelspec": {
   "display_name": "Python 3 (ipykernel)",
   "language": "python",
   "name": "python3"
  },
  "language_info": {
   "codemirror_mode": {
    "name": "ipython",
    "version": 3
   },
   "file_extension": ".py",
   "mimetype": "text/x-python",
   "name": "python",
   "nbconvert_exporter": "python",
   "pygments_lexer": "ipython3",
   "version": "3.10.13"
  }
 },
 "nbformat": 4,
 "nbformat_minor": 4
}
